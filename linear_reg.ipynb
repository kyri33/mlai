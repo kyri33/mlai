{
 "cells": [
  {
   "cell_type": "markdown",
   "metadata": {},
   "source": [
    "# Create X and y sets"
   ]
  },
  {
   "cell_type": "code",
   "execution_count": 1,
   "metadata": {},
   "outputs": [],
   "source": [
    "import numpy as np\n",
    "\n",
    "X = 2 * np.random.rand(100, 1)\n",
    "y = 4 + 3*X + np.random.randn(100, 1)"
   ]
  },
  {
   "cell_type": "markdown",
   "metadata": {},
   "source": [
    "Plotting them"
   ]
  },
  {
   "cell_type": "code",
   "execution_count": 2,
   "metadata": {},
   "outputs": [
    {
     "data": {
      "image/png": "[encoded data removed]",
      "text/plain": [
       "<Figure size 432x288 with 1 Axes>"
      ]
     },
     "metadata": {
      "needs_background": "light"
     },
     "output_type": "display_data"
    }
   ],
   "source": [
    "import matplotlib.pyplot as plt\n",
    "%matplotlib inline\n",
    "\n",
    "plt.plot(X, y, \"b.\")\n",
    "plt.axis([0,2, 0, 15])\n",
    "plt.show()"
   ]
  },
  {
   "cell_type": "markdown",
   "metadata": {},
   "source": [
    "# Implement The Learning Algorithm"
   ]
  },
  {
   "cell_type": "markdown",
   "metadata": {},
   "source": [
    "Theta has one 'weight' for every X in the row (so 1) as well as a bias. So we need to add an extra column of 1s into X for the matrix multipliaction"
   ]
  },
  {
   "cell_type": "code",
   "execution_count": 3,
   "metadata": {},
   "outputs": [
    {
     "name": "stdout",
     "output_type": "stream",
     "text": [
      "[[1.         1.95683325]\n",
      " [1.         0.20614182]\n",
      " [1.         0.75115136]\n",
      " [1.         0.18476511]\n",
      " [1.         1.61857582]]\n"
     ]
    }
   ],
   "source": [
    "X_b = np.c_[np.ones((100, 1)), X]\n",
    "print(X_b[0:5])"
   ]
  },
  {
   "cell_type": "code",
   "execution_count": 4,
   "metadata": {},
   "outputs": [
    {
     "data": {
      "image/png": "[encoded data removed]",
      "text/plain": [
       "<Figure size 432x288 with 1 Axes>"
      ]
     },
     "metadata": {
      "needs_background": "light"
     },
     "output_type": "display_data"
    }
   ],
   "source": [
    "eta = 0.1 # Learning Rage\n",
    "n_iterations = 1000\n",
    "m = 100\n",
    "\n",
    "# Randomly initialize theta for the linear regression\n",
    "theta = np.random.randn(2, 1)\n",
    "\n",
    "for iteration in range(n_iterations):\n",
    "    gradients = 2/m * X_b.T.dot((X_b.dot(theta) - y))\n",
    "    theta = theta - eta * gradients\n",
    "\n",
    "plt.plot(X, y, \"b.\")\n",
    "plt.plot(X, X_b.dot(theta), \"r-\")\n",
    "plt.axis([0, 2, 0, 15])\n",
    "plt.show()"
   ]
  },
  {
   "cell_type": "code",
   "execution_count": 8,
   "metadata": {},
   "outputs": [
    {
     "name": "stdout",
     "output_type": "stream",
     "text": [
      "Epoch 0 MSE= 29.5177\n",
      "Epoch 100 MSE= 0.81962395\n",
      "Epoch 200 MSE= 0.8195729\n",
      "Epoch 300 MSE= 0.81957275\n",
      "Epoch 400 MSE= 0.81957275\n",
      "Epoch 500 MSE= 0.81957275\n",
      "Epoch 600 MSE= 0.81957275\n",
      "Epoch 700 MSE= 0.81957275\n",
      "Epoch 800 MSE= 0.81957275\n",
      "Epoch 900 MSE= 0.81957275\n",
      "[[3.9575274]\n",
      " [2.9207473]]\n"
     ]
    }
   ],
   "source": [
    "import tensorflow as tf\n",
    "theta = np.random.randn(2, 1)\n",
    "Xb = tf.constant(X_b, dtype=tf.float32, name=\"Xb\")\n",
    "yb = tf.constant(y, dtype=tf.float32, name=\"yb\")\n",
    "thetab = tf.Variable(theta, dtype=tf.float32, name=\"thetab\")\n",
    "y_predb = tf.matmul(Xb, thetab, name=\"predictionsb\")\n",
    "errorb = y_predb - yb\n",
    "mseb = tf.reduce_mean(tf.square(errorb), name=\"mseb\")\n",
    "gradientsb = 2/m * tf.matmul(tf.transpose(Xb), errorb)\n",
    "\n",
    "training_op = tf.assign(thetab, thetab - eta * gradientsb)\n",
    "\n",
    "init = tf.global_variables_initializer()\n",
    "\n",
    "with tf.Session() as sess:\n",
    "    sess.run(init)\n",
    "    \n",
    "    for epoch in range(n_iterations):\n",
    "        if epoch % 100 == 0:\n",
    "            print(\"Epoch\", epoch, \"MSE=\", mseb.eval())\n",
    "        sess.run(training_op)\n",
    "    \n",
    "    best_thetab = thetab.eval()\n",
    "    print(best_thetab)\n",
    "    \n",
    "    plt.plot(X, y, \"b.\")\n",
    "    plt.plot(X, X_b.dot(best_thetab), )"
   ]
  },
  {
   "cell_type": "markdown",
   "metadata": {},
   "source": [
    "# Now with Tensorflow"
   ]
  },
  {
   "cell_type": "code",
   "execution_count": null,
   "metadata": {},
   "outputs": [],
   "source": [
    "from sklearn.datasets import fetch_california_housing\n",
    "from sklearn.preprocessing import StandardScaler\n",
    "\n",
    "housing = fetch_california_housing()\n",
    "m, n = housing.data.shape\n",
    "\n",
    "scaler = StandardScaler()\n",
    "housing_data_scaled = scaler.fit_transform(housing.data)\n",
    "\n",
    "housing_data_scaled_bias = np.c_[np.ones((m, 1)), housing_data_scaled]\n",
    "\n",
    "n_epochs = 1000\n",
    "learning_rate = 0.01\n",
    "\n",
    "X = tf.constant(housing_data_scaled_bias, dtype=tf.float32, name=\"X\")\n",
    "y = tf.constant(housing.target.reshape(-1, 1), dtype=tf.float32, name=\"y\")\n",
    "theta = tf.Variable(tf.random_uniform([n + 1, 1], -1.0, 1.0), name=\"theta\")\n",
    "y_pred = tf.matmul(X, theta, name=\"predictions\")\n",
    "error = y_pred - y\n",
    "mse = tf.reduce_mean(tf.square(error), name=\"mse\")\n",
    "gradients = 2/m * tf.matmul(tf.transpose(X), error)\n",
    "\n",
    "training_op = tf.assign(theta, theta - learning_rate * gradients)\n",
    "\n",
    "init = tf.global_variables_initializer()\n",
    "\n",
    "with tf.Session() as sess:\n",
    "    sess.run(init)\n",
    "    \n",
    "    for epoch in range(n_epochs):\n",
    "        if epoch % 100 == 0:\n",
    "            print(\"Epoch\", epoch, \"MSE = \", mse.eval())\n",
    "        sess.run(training_op)\n",
    "    \n",
    "    best_theta = theta.eval()"
   ]
  },
  {
   "cell_type": "code",
   "execution_count": null,
   "metadata": {},
   "outputs": [],
   "source": [
    "best_theta"
   ]
  },
  {
   "cell_type": "code",
   "execution_count": null,
   "metadata": {},
   "outputs": [],
   "source": [
    "plt.plot(housing_data_scaled, housing_data_scaled_bias.dot(best_theta), \"r-\")\n",
    "plt.plot(housing_data_scaled, housing.target, \"b.\")\n",
    "plt.show()"
   ]
  },
  {
   "cell_type": "code",
   "execution_count": null,
   "metadata": {},
   "outputs": [],
   "source": []
  }
 ],
 "metadata": {
  "kernelspec": {
   "display_name": "Python 3",
   "language": "python",
   "name": "python3"
  },
  "language_info": {
   "codemirror_mode": {
    "name": "ipython",
    "version": 3
   },
   "file_extension": ".py",
   "mimetype": "text/x-python",
   "name": "python",
   "nbconvert_exporter": "python",
   "pygments_lexer": "ipython3",
   "version": "3.7.2"
  }
 },
 "nbformat": 4,
 "nbformat_minor": 2
}
